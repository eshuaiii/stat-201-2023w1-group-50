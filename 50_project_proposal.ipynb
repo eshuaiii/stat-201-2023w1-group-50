{
 "cells": [
  {
   "cell_type": "markdown",
   "id": "fd824fbc-89ab-4627-b79b-5852aaed8b49",
   "metadata": {},
   "source": [
    "henlo"
   ]
  }
 ],
 "metadata": {
  "kernelspec": {
   "display_name": "R",
   "language": "R",
   "name": "ir"
  },
  "language_info": {
   "codemirror_mode": "r",
   "file_extension": ".r",
   "mimetype": "text/x-r-source",
   "name": "R",
   "pygments_lexer": "r",
   "version": "4.2.3"
  }
 },
 "nbformat": 4,
 "nbformat_minor": 5
}
