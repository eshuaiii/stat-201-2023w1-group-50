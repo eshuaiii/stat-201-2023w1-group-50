{
 "cells": [
  {
   "cell_type": "markdown",
   "id": "03222c30-fc35-40e3-9808-af74c08f0037",
   "metadata": {
    "tags": []
   },
   "source": [
    "# Investigating Tree Canopy Inequity In Vancouver, British Columbia\n",
    "Group 50: Paul English, Zhuoran Wang, Junyao Wang, Halley Suarez, Eric Shuai"
   ]
  },
  {
   "cell_type": "markdown",
   "id": "0414171c-3fc5-4f33-abd2-edf9e79291d7",
   "metadata": {
    "tags": []
   },
   "source": [
    "<h2 style=\"color:#008a05\">Introduction</h2>\n",
    "\n",
    "Urban tree cover provides a variety of ecosystem services beyond aesthetic benefits. These include a reduced heat island effect through shading, increased air quality, and reduced stormwater flooding  [(McDonald et. al. 2021)](https://doi.org/10.1371/journal.pone.0249715). Larger trees are better equipped to provide these ecosystem services as they have greater structural complexity and a more developed canopy [(Baró et. al., 2019)](https://www.sciencedirect.com/science/article/pii/S0169204620314766). Thus, urban tree cover is an integral piece of life in a city environment, yet there are many areas in and around Vancouver that exhibit little to no tree cover at all. \n",
    "<br>This phenomenon is known as **tree canopy inequity**, where low-income and minority neighbourhoods tend to have less tree cover and fewer large trees than wealthier and non-minority neighbourhoods. This has been observed in cities across Canada [(Kiani et. al., 2023)](https://doi.org/10.1016/j.landurbplan.2023.104871).\n",
    "\n",
    "In this study, wealth is analyzed in the Greater Vancouver Area to see if high-income neighbourhoods correlate to having more trees as well as bigger trees. This study plans to investigate if there is a positive association between income and mean tree diameter in Vancouver to test if tree canopy inequity is present. Additionally, the standard deviation of tree diameter will be explored to quantify the observed variation in tree size.\n",
    "\n",
    "**Question:** Does there exist a positive association between the wealthiness of a neighbourhood and the corresponding mean tree diameter in that community for the Greater Vancouver Area?"
   ]
  },
  {
   "cell_type": "markdown",
   "id": "a910ac1a-f569-424c-ac02-14a0e9223812",
   "metadata": {},
   "source": [
    "<h2 style=\"color:#008a05\">Methods</h2>\n",
    "\n",
    "INCOME DATA IS FROM 2015. TREE DATA IDK. DIAMETER IS IN WHAT UNITS?\n",
    "\n",
    "**<u>Variables used:</u>**\n",
    "\n",
    "> **Danceability**, `danceability` (0.0-1.0, no units)\n",
    ">\n",
    "> **Energy**, `energy` (0.0-1.0, no units)\n",
    ">\n",
    "> **Tempo**, `tempo` (dbl, BPM)\n",
    ">\n",
    "> **Valence/musical positiveness**, `valence` (0.0-1.0)\n",
    ">\n",
    "> **Modality**, `mode` (0.0-1.0)\n",
    "\n",
    "We will be using the energy, valence, tempo, and mode as predictor variables. Energy and tempo are crucial as they form the rhythmic backbones of a song’s danceability. The valence and mode were selected as a song expressing higher positiveness may influence the listener to dance along, or if the switch of mode can affect the feeling towards a song.\n",
    "\n",
    "After completing initial cleanup (trimming `N/A` values, selecting, etc.), we first need to proportionally sample the data since the dataset is too large, before splitting it into training/testing data. Next, we perform rectangular k-neighbours regression analysis alongside cross-validation to determine an optimal number of neighbours, $k$, before trying our model against testing data to determine model accuracy. We can then plot multiple scatter plots with danceability against each predictor with the training model average as a line, and a line graph revealing the RMSE against multiple values of $k$.\n",
    "\n",
    "Finally, we would like to repeat our analysis through linear regression, allowing us to compare the accuracies of both models.\n"
   ]
  },
  {
   "cell_type": "markdown",
   "id": "d8c4d58e-1f39-48de-a868-b2555ba829f7",
   "metadata": {
    "tags": []
   },
   "source": [
    "<h2 style=\"color:#008a05\">Preliminary Exploratory Data Analysis</h2>\n",
    "\n",
    "### Loading Libraries, Reading Data"
   ]
  },
  {
   "cell_type": "code",
   "execution_count": 1,
   "id": "1c37aafd-af14-49ef-976b-2ecc134f8cf5",
   "metadata": {
    "tags": []
   },
   "outputs": [
    {
     "name": "stderr",
     "output_type": "stream",
     "text": [
      "── \u001b[1mAttaching core tidyverse packages\u001b[22m ──────────────────────── tidyverse 2.0.0 ──\n",
      "\u001b[32m✔\u001b[39m \u001b[34mdplyr    \u001b[39m 1.1.3     \u001b[32m✔\u001b[39m \u001b[34mreadr    \u001b[39m 2.1.4\n",
      "\u001b[32m✔\u001b[39m \u001b[34mforcats  \u001b[39m 1.0.0     \u001b[32m✔\u001b[39m \u001b[34mstringr  \u001b[39m 1.5.0\n",
      "\u001b[32m✔\u001b[39m \u001b[34mggplot2  \u001b[39m 3.4.3     \u001b[32m✔\u001b[39m \u001b[34mtibble   \u001b[39m 3.2.1\n",
      "\u001b[32m✔\u001b[39m \u001b[34mlubridate\u001b[39m 1.9.2     \u001b[32m✔\u001b[39m \u001b[34mtidyr    \u001b[39m 1.3.0\n",
      "\u001b[32m✔\u001b[39m \u001b[34mpurrr    \u001b[39m 1.0.1     \n",
      "── \u001b[1mConflicts\u001b[22m ────────────────────────────────────────── tidyverse_conflicts() ──\n",
      "\u001b[31m✖\u001b[39m \u001b[34mdplyr\u001b[39m::\u001b[32mfilter()\u001b[39m masks \u001b[34mstats\u001b[39m::filter()\n",
      "\u001b[31m✖\u001b[39m \u001b[34mdplyr\u001b[39m::\u001b[32mlag()\u001b[39m    masks \u001b[34mstats\u001b[39m::lag()\n",
      "\u001b[36mℹ\u001b[39m Use the conflicted package (\u001b[3m\u001b[34m<http://conflicted.r-lib.org/>\u001b[39m\u001b[23m) to force all conflicts to become errors\n",
      "── \u001b[1mAttaching packages\u001b[22m ────────────────────────────────────── tidymodels 1.1.1 ──\n",
      "\n",
      "\u001b[32m✔\u001b[39m \u001b[34mbroom       \u001b[39m 1.0.5     \u001b[32m✔\u001b[39m \u001b[34mrsample     \u001b[39m 1.2.0\n",
      "\u001b[32m✔\u001b[39m \u001b[34mdials       \u001b[39m 1.2.0     \u001b[32m✔\u001b[39m \u001b[34mtune        \u001b[39m 1.1.2\n",
      "\u001b[32m✔\u001b[39m \u001b[34minfer       \u001b[39m 1.0.4     \u001b[32m✔\u001b[39m \u001b[34mworkflows   \u001b[39m 1.1.3\n",
      "\u001b[32m✔\u001b[39m \u001b[34mmodeldata   \u001b[39m 1.2.0     \u001b[32m✔\u001b[39m \u001b[34mworkflowsets\u001b[39m 1.0.1\n",
      "\u001b[32m✔\u001b[39m \u001b[34mparsnip     \u001b[39m 1.1.1     \u001b[32m✔\u001b[39m \u001b[34myardstick   \u001b[39m 1.2.0\n",
      "\u001b[32m✔\u001b[39m \u001b[34mrecipes     \u001b[39m 1.0.8     \n",
      "\n",
      "── \u001b[1mConflicts\u001b[22m ───────────────────────────────────────── tidymodels_conflicts() ──\n",
      "\u001b[31m✖\u001b[39m \u001b[34mscales\u001b[39m::\u001b[32mdiscard()\u001b[39m masks \u001b[34mpurrr\u001b[39m::discard()\n",
      "\u001b[31m✖\u001b[39m \u001b[34mdplyr\u001b[39m::\u001b[32mfilter()\u001b[39m   masks \u001b[34mstats\u001b[39m::filter()\n",
      "\u001b[31m✖\u001b[39m \u001b[34mrecipes\u001b[39m::\u001b[32mfixed()\u001b[39m  masks \u001b[34mstringr\u001b[39m::fixed()\n",
      "\u001b[31m✖\u001b[39m \u001b[34mdplyr\u001b[39m::\u001b[32mlag()\u001b[39m      masks \u001b[34mstats\u001b[39m::lag()\n",
      "\u001b[31m✖\u001b[39m \u001b[34myardstick\u001b[39m::\u001b[32mspec()\u001b[39m masks \u001b[34mreadr\u001b[39m::spec()\n",
      "\u001b[31m✖\u001b[39m \u001b[34mrecipes\u001b[39m::\u001b[32mstep()\u001b[39m   masks \u001b[34mstats\u001b[39m::step()\n",
      "\u001b[34m•\u001b[39m Search for functions across packages at \u001b[32mhttps://www.tidymodels.org/find/\u001b[39m\n",
      "\n"
     ]
    }
   ],
   "source": [
    "# --- Setting up prerequisites libraries ---\n",
    "library(tidyverse)\n",
    "library(tidymodels)\n",
    "# library(broom)\n",
    "library(repr)\n",
    "# library(digest)\n",
    "library(infer)\n",
    "# library(gridExtra)\n",
    "options(repr.matrix.max.rows = 8)"
   ]
  },
  {
   "cell_type": "code",
   "execution_count": 2,
   "id": "e1a669c7-8125-42f7-8955-9a9a4810ce56",
   "metadata": {
    "tags": []
   },
   "outputs": [
    {
     "name": "stderr",
     "output_type": "stream",
     "text": [
      "\u001b[1mRows: \u001b[22m\u001b[34m150695\u001b[39m \u001b[1mColumns: \u001b[22m\u001b[34m21\u001b[39m\n",
      "\u001b[36m──\u001b[39m \u001b[1mColumn specification\u001b[22m \u001b[36m────────────────────────────────────────────────────────\u001b[39m\n",
      "\u001b[1mDelimiter:\u001b[22m \";\"\n",
      "\u001b[31mchr\u001b[39m  (15): STD_STREET, GENUS_NAME, SPECIES_NAME, CULTIVAR_NAME, COMMON_NAME,...\n",
      "\u001b[32mdbl\u001b[39m   (5): TREE_ID, CIVIC_NUMBER, ON_STREET_BLOCK, HEIGHT_RANGE_ID, DIAMETER\n",
      "\u001b[34mdate\u001b[39m  (1): DATE_PLANTED\n",
      "\n",
      "\u001b[36mℹ\u001b[39m Use `spec()` to retrieve the full column specification for this data.\n",
      "\u001b[36mℹ\u001b[39m Specify the column types or set `show_col_types = FALSE` to quiet this message.\n",
      "Warning message:\n",
      "“\u001b[1m\u001b[22mOne or more parsing issues, call `problems()` on your data frame for details,\n",
      "e.g.:\n",
      "  dat <- vroom(...)\n",
      "  problems(dat)”\n",
      "\u001b[1mRows: \u001b[22m\u001b[34m5589\u001b[39m \u001b[1mColumns: \u001b[22m\u001b[34m26\u001b[39m\n",
      "\u001b[36m──\u001b[39m \u001b[1mColumn specification\u001b[22m \u001b[36m────────────────────────────────────────────────────────\u001b[39m\n",
      "\u001b[1mDelimiter:\u001b[22m \",\"\n",
      "\u001b[31mchr\u001b[39m  (1): Variable\n",
      "\u001b[32mdbl\u001b[39m  (1): ID\n",
      "\u001b[32mnum\u001b[39m (24): Arbutus-Ridge, Downtown, Dunbar-Southlands, Fairview, Grandview-Wo...\n",
      "\n",
      "\u001b[36mℹ\u001b[39m Use `spec()` to retrieve the full column specification for this data.\n",
      "\u001b[36mℹ\u001b[39m Specify the column types or set `show_col_types = FALSE` to quiet this message.\n"
     ]
    },
    {
     "data": {
      "text/html": [
       "<table class=\"dataframe\">\n",
       "<caption>A tibble: 3 × 21</caption>\n",
       "<thead>\n",
       "\t<tr><th scope=col>TREE_ID</th><th scope=col>CIVIC_NUMBER</th><th scope=col>STD_STREET</th><th scope=col>GENUS_NAME</th><th scope=col>SPECIES_NAME</th><th scope=col>CULTIVAR_NAME</th><th scope=col>COMMON_NAME</th><th scope=col>ASSIGNED</th><th scope=col>ROOT_BARRIER</th><th scope=col>PLANT_AREA</th><th scope=col>⋯</th><th scope=col>ON_STREET</th><th scope=col>NEIGHBOURHOOD_NAME</th><th scope=col>STREET_SIDE_NAME</th><th scope=col>HEIGHT_RANGE_ID</th><th scope=col>HEIGHT_RANGE</th><th scope=col>DIAMETER</th><th scope=col>CURB</th><th scope=col>DATE_PLANTED</th><th scope=col>Geom</th><th scope=col>geo_point_2d</th></tr>\n",
       "\t<tr><th scope=col>&lt;dbl&gt;</th><th scope=col>&lt;dbl&gt;</th><th scope=col>&lt;chr&gt;</th><th scope=col>&lt;chr&gt;</th><th scope=col>&lt;chr&gt;</th><th scope=col>&lt;chr&gt;</th><th scope=col>&lt;chr&gt;</th><th scope=col>&lt;chr&gt;</th><th scope=col>&lt;chr&gt;</th><th scope=col>&lt;chr&gt;</th><th scope=col>⋯</th><th scope=col>&lt;chr&gt;</th><th scope=col>&lt;chr&gt;</th><th scope=col>&lt;chr&gt;</th><th scope=col>&lt;dbl&gt;</th><th scope=col>&lt;chr&gt;</th><th scope=col>&lt;dbl&gt;</th><th scope=col>&lt;chr&gt;</th><th scope=col>&lt;date&gt;</th><th scope=col>&lt;chr&gt;</th><th scope=col>&lt;chr&gt;</th></tr>\n",
       "</thead>\n",
       "<tbody>\n",
       "\t<tr><td>5791</td><td>3708</td><td>W 35TH AV</td><td>PSEUDOTSUGA</td><td>MENZIESII  </td><td>NA</td><td>DOUGLAS FIR </td><td>N</td><td>N</td><td>L</td><td>⋯</td><td>W 35TH AV</td><td>DUNBAR-SOUTHLANDS</td><td>EVEN</td><td>9</td><td>90' - 100'</td><td>50.00</td><td>Y</td><td>NA</td><td>{\"coordinates\": [-123.186767, 49.240027], \"type\": \"Point\"}</td><td>49.240027, -123.186767</td></tr>\n",
       "\t<tr><td>5797</td><td>1101</td><td>E 7TH AV </td><td>ACER       </td><td>PLATANOIDES</td><td>NA</td><td>NORWAY MAPLE</td><td>Y</td><td>N</td><td>N</td><td>⋯</td><td>E 7TH AV </td><td>MOUNT PLEASANT   </td><td>ODD </td><td>2</td><td>20' - 30' </td><td> 8.25</td><td>Y</td><td>NA</td><td>{\"coordinates\": [-123.080395, 49.264375], \"type\": \"Point\"}</td><td>49.264375, -123.080395</td></tr>\n",
       "\t<tr><td>5798</td><td>1101</td><td>E 7TH AV </td><td>ACER       </td><td>PLATANOIDES</td><td>NA</td><td>NORWAY MAPLE</td><td>Y</td><td>N</td><td>N</td><td>⋯</td><td>E 7TH AV </td><td>MOUNT PLEASANT   </td><td>ODD </td><td>3</td><td>30' - 40' </td><td>12.25</td><td>Y</td><td>NA</td><td>{\"coordinates\": [-123.080284, 49.264372], \"type\": \"Point\"}</td><td>49.264372, -123.080284</td></tr>\n",
       "</tbody>\n",
       "</table>\n"
      ],
      "text/latex": [
       "A tibble: 3 × 21\n",
       "\\begin{tabular}{lllllllllllllllllllll}\n",
       " TREE\\_ID & CIVIC\\_NUMBER & STD\\_STREET & GENUS\\_NAME & SPECIES\\_NAME & CULTIVAR\\_NAME & COMMON\\_NAME & ASSIGNED & ROOT\\_BARRIER & PLANT\\_AREA & ⋯ & ON\\_STREET & NEIGHBOURHOOD\\_NAME & STREET\\_SIDE\\_NAME & HEIGHT\\_RANGE\\_ID & HEIGHT\\_RANGE & DIAMETER & CURB & DATE\\_PLANTED & Geom & geo\\_point\\_2d\\\\\n",
       " <dbl> & <dbl> & <chr> & <chr> & <chr> & <chr> & <chr> & <chr> & <chr> & <chr> & ⋯ & <chr> & <chr> & <chr> & <dbl> & <chr> & <dbl> & <chr> & <date> & <chr> & <chr>\\\\\n",
       "\\hline\n",
       "\t 5791 & 3708 & W 35TH AV & PSEUDOTSUGA & MENZIESII   & NA & DOUGLAS FIR  & N & N & L & ⋯ & W 35TH AV & DUNBAR-SOUTHLANDS & EVEN & 9 & 90' - 100' & 50.00 & Y & NA & \\{\"coordinates\": {[}-123.186767, 49.240027{]}, \"type\": \"Point\"\\} & 49.240027, -123.186767\\\\\n",
       "\t 5797 & 1101 & E 7TH AV  & ACER        & PLATANOIDES & NA & NORWAY MAPLE & Y & N & N & ⋯ & E 7TH AV  & MOUNT PLEASANT    & ODD  & 2 & 20' - 30'  &  8.25 & Y & NA & \\{\"coordinates\": {[}-123.080395, 49.264375{]}, \"type\": \"Point\"\\} & 49.264375, -123.080395\\\\\n",
       "\t 5798 & 1101 & E 7TH AV  & ACER        & PLATANOIDES & NA & NORWAY MAPLE & Y & N & N & ⋯ & E 7TH AV  & MOUNT PLEASANT    & ODD  & 3 & 30' - 40'  & 12.25 & Y & NA & \\{\"coordinates\": {[}-123.080284, 49.264372{]}, \"type\": \"Point\"\\} & 49.264372, -123.080284\\\\\n",
       "\\end{tabular}\n"
      ],
      "text/markdown": [
       "\n",
       "A tibble: 3 × 21\n",
       "\n",
       "| TREE_ID &lt;dbl&gt; | CIVIC_NUMBER &lt;dbl&gt; | STD_STREET &lt;chr&gt; | GENUS_NAME &lt;chr&gt; | SPECIES_NAME &lt;chr&gt; | CULTIVAR_NAME &lt;chr&gt; | COMMON_NAME &lt;chr&gt; | ASSIGNED &lt;chr&gt; | ROOT_BARRIER &lt;chr&gt; | PLANT_AREA &lt;chr&gt; | ⋯ ⋯ | ON_STREET &lt;chr&gt; | NEIGHBOURHOOD_NAME &lt;chr&gt; | STREET_SIDE_NAME &lt;chr&gt; | HEIGHT_RANGE_ID &lt;dbl&gt; | HEIGHT_RANGE &lt;chr&gt; | DIAMETER &lt;dbl&gt; | CURB &lt;chr&gt; | DATE_PLANTED &lt;date&gt; | Geom &lt;chr&gt; | geo_point_2d &lt;chr&gt; |\n",
       "|---|---|---|---|---|---|---|---|---|---|---|---|---|---|---|---|---|---|---|---|---|\n",
       "| 5791 | 3708 | W 35TH AV | PSEUDOTSUGA | MENZIESII   | NA | DOUGLAS FIR  | N | N | L | ⋯ | W 35TH AV | DUNBAR-SOUTHLANDS | EVEN | 9 | 90' - 100' | 50.00 | Y | NA | {\"coordinates\": [-123.186767, 49.240027], \"type\": \"Point\"} | 49.240027, -123.186767 |\n",
       "| 5797 | 1101 | E 7TH AV  | ACER        | PLATANOIDES | NA | NORWAY MAPLE | Y | N | N | ⋯ | E 7TH AV  | MOUNT PLEASANT    | ODD  | 2 | 20' - 30'  |  8.25 | Y | NA | {\"coordinates\": [-123.080395, 49.264375], \"type\": \"Point\"} | 49.264375, -123.080395 |\n",
       "| 5798 | 1101 | E 7TH AV  | ACER        | PLATANOIDES | NA | NORWAY MAPLE | Y | N | N | ⋯ | E 7TH AV  | MOUNT PLEASANT    | ODD  | 3 | 30' - 40'  | 12.25 | Y | NA | {\"coordinates\": [-123.080284, 49.264372], \"type\": \"Point\"} | 49.264372, -123.080284 |\n",
       "\n"
      ],
      "text/plain": [
       "  TREE_ID CIVIC_NUMBER STD_STREET GENUS_NAME  SPECIES_NAME CULTIVAR_NAME\n",
       "1 5791    3708         W 35TH AV  PSEUDOTSUGA MENZIESII    NA           \n",
       "2 5797    1101         E 7TH AV   ACER        PLATANOIDES  NA           \n",
       "3 5798    1101         E 7TH AV   ACER        PLATANOIDES  NA           \n",
       "  COMMON_NAME  ASSIGNED ROOT_BARRIER PLANT_AREA ⋯ ON_STREET NEIGHBOURHOOD_NAME\n",
       "1 DOUGLAS FIR  N        N            L          ⋯ W 35TH AV DUNBAR-SOUTHLANDS \n",
       "2 NORWAY MAPLE Y        N            N          ⋯ E 7TH AV  MOUNT PLEASANT    \n",
       "3 NORWAY MAPLE Y        N            N          ⋯ E 7TH AV  MOUNT PLEASANT    \n",
       "  STREET_SIDE_NAME HEIGHT_RANGE_ID HEIGHT_RANGE DIAMETER CURB DATE_PLANTED\n",
       "1 EVEN             9               90' - 100'   50.00    Y    <NA>        \n",
       "2 ODD              2               20' - 30'     8.25    Y    <NA>        \n",
       "3 ODD              3               30' - 40'    12.25    Y    <NA>        \n",
       "  Geom                                                      \n",
       "1 {\"coordinates\": [-123.186767, 49.240027], \"type\": \"Point\"}\n",
       "2 {\"coordinates\": [-123.080395, 49.264375], \"type\": \"Point\"}\n",
       "3 {\"coordinates\": [-123.080284, 49.264372], \"type\": \"Point\"}\n",
       "  geo_point_2d          \n",
       "1 49.240027, -123.186767\n",
       "2 49.264375, -123.080395\n",
       "3 49.264372, -123.080284"
      ]
     },
     "metadata": {},
     "output_type": "display_data"
    },
    {
     "data": {
      "text/html": [
       "<table class=\"dataframe\">\n",
       "<caption>A spec_tbl_df: 1 × 26</caption>\n",
       "<thead>\n",
       "\t<tr><th scope=col>ID</th><th scope=col>Variable</th><th scope=col>Arbutus-Ridge</th><th scope=col>Downtown</th><th scope=col>Dunbar-Southlands</th><th scope=col>Fairview</th><th scope=col>Grandview-Woodland</th><th scope=col>Hastings-Sunrise</th><th scope=col>Kensington-Cedar Cottage</th><th scope=col>Kerrisdale</th><th scope=col>⋯</th><th scope=col>Riley Park</th><th scope=col>Shaughnessy</th><th scope=col>South Cambie</th><th scope=col>Strathcona</th><th scope=col>Sunset</th><th scope=col>Victoria-Fraserview</th><th scope=col>West End</th><th scope=col>West Point Grey</th><th scope=col>Vancouver CSD</th><th scope=col>Vancouver CMA</th></tr>\n",
       "\t<tr><th scope=col>&lt;dbl&gt;</th><th scope=col>&lt;chr&gt;</th><th scope=col>&lt;dbl&gt;</th><th scope=col>&lt;dbl&gt;</th><th scope=col>&lt;dbl&gt;</th><th scope=col>&lt;dbl&gt;</th><th scope=col>&lt;dbl&gt;</th><th scope=col>&lt;dbl&gt;</th><th scope=col>&lt;dbl&gt;</th><th scope=col>&lt;dbl&gt;</th><th scope=col>⋯</th><th scope=col>&lt;dbl&gt;</th><th scope=col>&lt;dbl&gt;</th><th scope=col>&lt;dbl&gt;</th><th scope=col>&lt;dbl&gt;</th><th scope=col>&lt;dbl&gt;</th><th scope=col>&lt;dbl&gt;</th><th scope=col>&lt;dbl&gt;</th><th scope=col>&lt;dbl&gt;</th><th scope=col>&lt;dbl&gt;</th><th scope=col>&lt;dbl&gt;</th></tr>\n",
       "</thead>\n",
       "<tbody>\n",
       "\t<tr><td>1858</td><td>Average total income in 2015 among recipients ($)</td><td>62675</td><td>63251</td><td>78117</td><td>61627</td><td>42896</td><td>38258</td><td>38411</td><td>77248</td><td>⋯</td><td>53060</td><td>118668</td><td>65459</td><td>31534</td><td>34212</td><td>34298</td><td>47253</td><td>82042</td><td>50317</td><td>46821</td></tr>\n",
       "</tbody>\n",
       "</table>\n"
      ],
      "text/latex": [
       "A spec\\_tbl\\_df: 1 × 26\n",
       "\\begin{tabular}{lllllllllllllllllllll}\n",
       " ID & Variable & Arbutus-Ridge & Downtown & Dunbar-Southlands & Fairview & Grandview-Woodland & Hastings-Sunrise & Kensington-Cedar Cottage & Kerrisdale & ⋯ & Riley Park & Shaughnessy & South Cambie & Strathcona & Sunset & Victoria-Fraserview & West End & West Point Grey & Vancouver CSD & Vancouver CMA\\\\\n",
       " <dbl> & <chr> & <dbl> & <dbl> & <dbl> & <dbl> & <dbl> & <dbl> & <dbl> & <dbl> & ⋯ & <dbl> & <dbl> & <dbl> & <dbl> & <dbl> & <dbl> & <dbl> & <dbl> & <dbl> & <dbl>\\\\\n",
       "\\hline\n",
       "\t 1858 & Average total income in 2015 among recipients (\\$) & 62675 & 63251 & 78117 & 61627 & 42896 & 38258 & 38411 & 77248 & ⋯ & 53060 & 118668 & 65459 & 31534 & 34212 & 34298 & 47253 & 82042 & 50317 & 46821\\\\\n",
       "\\end{tabular}\n"
      ],
      "text/markdown": [
       "\n",
       "A spec_tbl_df: 1 × 26\n",
       "\n",
       "| ID &lt;dbl&gt; | Variable &lt;chr&gt; | Arbutus-Ridge &lt;dbl&gt; | Downtown &lt;dbl&gt; | Dunbar-Southlands &lt;dbl&gt; | Fairview &lt;dbl&gt; | Grandview-Woodland &lt;dbl&gt; | Hastings-Sunrise &lt;dbl&gt; | Kensington-Cedar Cottage &lt;dbl&gt; | Kerrisdale &lt;dbl&gt; | ⋯ ⋯ | Riley Park &lt;dbl&gt; | Shaughnessy &lt;dbl&gt; | South Cambie &lt;dbl&gt; | Strathcona &lt;dbl&gt; | Sunset &lt;dbl&gt; | Victoria-Fraserview &lt;dbl&gt; | West End &lt;dbl&gt; | West Point Grey &lt;dbl&gt; | Vancouver CSD &lt;dbl&gt; | Vancouver CMA &lt;dbl&gt; |\n",
       "|---|---|---|---|---|---|---|---|---|---|---|---|---|---|---|---|---|---|---|---|---|\n",
       "| 1858 | Average total income in 2015 among recipients ($) | 62675 | 63251 | 78117 | 61627 | 42896 | 38258 | 38411 | 77248 | ⋯ | 53060 | 118668 | 65459 | 31534 | 34212 | 34298 | 47253 | 82042 | 50317 | 46821 |\n",
       "\n"
      ],
      "text/plain": [
       "  ID   Variable                                          Arbutus-Ridge Downtown\n",
       "1 1858 Average total income in 2015 among recipients ($) 62675         63251   \n",
       "  Dunbar-Southlands Fairview Grandview-Woodland Hastings-Sunrise\n",
       "1 78117             61627    42896              38258           \n",
       "  Kensington-Cedar Cottage Kerrisdale ⋯ Riley Park Shaughnessy South Cambie\n",
       "1 38411                    77248      ⋯ 53060      118668      65459       \n",
       "  Strathcona Sunset Victoria-Fraserview West End West Point Grey Vancouver CSD\n",
       "1 31534      34212  34298               47253    82042           50317        \n",
       "  Vancouver CMA\n",
       "1 46821        "
      ]
     },
     "metadata": {},
     "output_type": "display_data"
    }
   ],
   "source": [
    "# --- Load data from the web  ---\n",
    "# load data about all trees in Vancouver\n",
    "street_trees <- read_delim(url(\"https://github.com/eshuaiii/stat-201-2023w1-group-50/raw/main/streettrees.csv\"), delim=\";\")\n",
    "\n",
    "# load income data in Vancouver\n",
    "area_profiles <- read_csv(url(\"https://github.com/eshuaiii/stat-201-2023w1-group-50/raw/main/AreaProfiles.csv\"), skip = 4)\n",
    "\n",
    "# The census data contains much more information than we need, with each info point as a row.\n",
    "# Hence, we'll slice only the average income field (at row 1882) from the dataset\n",
    "average_income <- slice(area_profiles, 1882)\n",
    "\n",
    "# Preview the data\n",
    "head(street_trees, 3)\n",
    "average_income"
   ]
  },
  {
   "cell_type": "markdown",
   "id": "81b1803d-7be9-494e-a298-aaaacee119dd",
   "metadata": {},
   "source": [
    "### Sampling and creating tidy data"
   ]
  },
  {
   "cell_type": "code",
   "execution_count": 3,
   "id": "54a4855a-f696-4677-835c-1b092d05a9ac",
   "metadata": {
    "tags": []
   },
   "outputs": [
    {
     "data": {
      "text/html": [
       "<table class=\"dataframe\">\n",
       "<caption>A tibble: 6 × 4</caption>\n",
       "<thead>\n",
       "\t<tr><th scope=col>tree_id</th><th scope=col>common_name</th><th scope=col>neighbourhood_name</th><th scope=col>diameter</th></tr>\n",
       "\t<tr><th scope=col>&lt;dbl&gt;</th><th scope=col>&lt;chr&gt;</th><th scope=col>&lt;chr&gt;</th><th scope=col>&lt;dbl&gt;</th></tr>\n",
       "</thead>\n",
       "<tbody>\n",
       "\t<tr><td>5791</td><td>DOUGLAS FIR </td><td>DUNBAR-SOUTHLANDS</td><td>50.00</td></tr>\n",
       "\t<tr><td>5797</td><td>NORWAY MAPLE</td><td>MOUNT PLEASANT   </td><td> 8.25</td></tr>\n",
       "\t<tr><td>5798</td><td>NORWAY MAPLE</td><td>MOUNT PLEASANT   </td><td>12.25</td></tr>\n",
       "\t<tr><td>5799</td><td>NORWAY MAPLE</td><td>MOUNT PLEASANT   </td><td> 9.50</td></tr>\n",
       "\t<tr><td>5800</td><td>NORWAY MAPLE</td><td>MOUNT PLEASANT   </td><td>20.00</td></tr>\n",
       "\t<tr><td>5802</td><td>NORWAY MAPLE</td><td>MOUNT PLEASANT   </td><td>18.00</td></tr>\n",
       "</tbody>\n",
       "</table>\n"
      ],
      "text/latex": [
       "A tibble: 6 × 4\n",
       "\\begin{tabular}{llll}\n",
       " tree\\_id & common\\_name & neighbourhood\\_name & diameter\\\\\n",
       " <dbl> & <chr> & <chr> & <dbl>\\\\\n",
       "\\hline\n",
       "\t 5791 & DOUGLAS FIR  & DUNBAR-SOUTHLANDS & 50.00\\\\\n",
       "\t 5797 & NORWAY MAPLE & MOUNT PLEASANT    &  8.25\\\\\n",
       "\t 5798 & NORWAY MAPLE & MOUNT PLEASANT    & 12.25\\\\\n",
       "\t 5799 & NORWAY MAPLE & MOUNT PLEASANT    &  9.50\\\\\n",
       "\t 5800 & NORWAY MAPLE & MOUNT PLEASANT    & 20.00\\\\\n",
       "\t 5802 & NORWAY MAPLE & MOUNT PLEASANT    & 18.00\\\\\n",
       "\\end{tabular}\n"
      ],
      "text/markdown": [
       "\n",
       "A tibble: 6 × 4\n",
       "\n",
       "| tree_id &lt;dbl&gt; | common_name &lt;chr&gt; | neighbourhood_name &lt;chr&gt; | diameter &lt;dbl&gt; |\n",
       "|---|---|---|---|\n",
       "| 5791 | DOUGLAS FIR  | DUNBAR-SOUTHLANDS | 50.00 |\n",
       "| 5797 | NORWAY MAPLE | MOUNT PLEASANT    |  8.25 |\n",
       "| 5798 | NORWAY MAPLE | MOUNT PLEASANT    | 12.25 |\n",
       "| 5799 | NORWAY MAPLE | MOUNT PLEASANT    |  9.50 |\n",
       "| 5800 | NORWAY MAPLE | MOUNT PLEASANT    | 20.00 |\n",
       "| 5802 | NORWAY MAPLE | MOUNT PLEASANT    | 18.00 |\n",
       "\n"
      ],
      "text/plain": [
       "  tree_id common_name  neighbourhood_name diameter\n",
       "1 5791    DOUGLAS FIR  DUNBAR-SOUTHLANDS  50.00   \n",
       "2 5797    NORWAY MAPLE MOUNT PLEASANT      8.25   \n",
       "3 5798    NORWAY MAPLE MOUNT PLEASANT     12.25   \n",
       "4 5799    NORWAY MAPLE MOUNT PLEASANT      9.50   \n",
       "5 5800    NORWAY MAPLE MOUNT PLEASANT     20.00   \n",
       "6 5802    NORWAY MAPLE MOUNT PLEASANT     18.00   "
      ]
     },
     "metadata": {},
     "output_type": "display_data"
    }
   ],
   "source": [
    "# Remove unnecessary columns and remove any data points from trees that have an NA value for diameter\n",
    "street_trees_cleaned <- street_trees |>\n",
    "    select(TREE_ID, COMMON_NAME, NEIGHBOURHOOD_NAME, DIAMETER) |>\n",
    "    filter(!is.na(DIAMETER))\n",
    "\n",
    "# Also rename all column names to be lowercase\n",
    "names(street_trees_cleaned) <- tolower(names(street_trees_cleaned))\n",
    "\n",
    "head(street_trees_cleaned)"
   ]
  },
  {
   "cell_type": "markdown",
   "id": "01330f0e-a298-46a6-b582-326e1dd1ca0d",
   "metadata": {},
   "source": [
    "***Note:** Because the `street_trees` dataset contains well over 150k points, we will sample 50k points instead due to limitations of hardware. We will discuss the implications of this in our Discussion.*"
   ]
  },
  {
   "cell_type": "code",
   "execution_count": 4,
   "id": "06e5bcc9-ebf1-44ef-a90f-afeb11984919",
   "metadata": {
    "tags": []
   },
   "outputs": [],
   "source": [
    "# Setting our seed once\n",
    "set.seed(50)\n",
    "\n",
    "# taking a sample of 50k points from the trees dataset\n",
    "trees <- street_trees_cleaned |>\n",
    "    sample_n(50000)"
   ]
  },
  {
   "cell_type": "markdown",
   "id": "136d5bda-1ba1-4dca-a22b-fbee5e361323",
   "metadata": {},
   "source": [
    "Next, we'll clean up our `average_income` dataset, modifying it into a long format. We will also remove the `Variable` and `ID` columns as they give technical information, and will also remove the `Vancouver CSD` and `Vancouver CMA` columns as they are summaries of regions (`Vancouver CSD` is the census sub-division, i.e. the city of Vancouver, and `Vancouver CMA` is the metropolitian area)."
   ]
  },
  {
   "cell_type": "code",
   "execution_count": 5,
   "id": "7989a05e-c0de-4f8d-9cd1-08aa8f7f9d2c",
   "metadata": {
    "tags": []
   },
   "outputs": [
    {
     "data": {
      "text/html": [
       "<table class=\"dataframe\">\n",
       "<caption>A tibble: 22 × 2</caption>\n",
       "<thead>\n",
       "\t<tr><th scope=col>neighbourhood_name</th><th scope=col>avg_income</th></tr>\n",
       "\t<tr><th scope=col>&lt;chr&gt;</th><th scope=col>&lt;dbl&gt;</th></tr>\n",
       "</thead>\n",
       "<tbody>\n",
       "\t<tr><td>Arbutus-Ridge    </td><td>62675</td></tr>\n",
       "\t<tr><td>Downtown         </td><td>63251</td></tr>\n",
       "\t<tr><td>Dunbar-Southlands</td><td>78117</td></tr>\n",
       "\t<tr><td>Fairview         </td><td>61627</td></tr>\n",
       "\t<tr><td>⋮</td><td>⋮</td></tr>\n",
       "\t<tr><td>Sunset             </td><td>34212</td></tr>\n",
       "\t<tr><td>Victoria-Fraserview</td><td>34298</td></tr>\n",
       "\t<tr><td>West End           </td><td>47253</td></tr>\n",
       "\t<tr><td>West Point Grey    </td><td>82042</td></tr>\n",
       "</tbody>\n",
       "</table>\n"
      ],
      "text/latex": [
       "A tibble: 22 × 2\n",
       "\\begin{tabular}{ll}\n",
       " neighbourhood\\_name & avg\\_income\\\\\n",
       " <chr> & <dbl>\\\\\n",
       "\\hline\n",
       "\t Arbutus-Ridge     & 62675\\\\\n",
       "\t Downtown          & 63251\\\\\n",
       "\t Dunbar-Southlands & 78117\\\\\n",
       "\t Fairview          & 61627\\\\\n",
       "\t ⋮ & ⋮\\\\\n",
       "\t Sunset              & 34212\\\\\n",
       "\t Victoria-Fraserview & 34298\\\\\n",
       "\t West End            & 47253\\\\\n",
       "\t West Point Grey     & 82042\\\\\n",
       "\\end{tabular}\n"
      ],
      "text/markdown": [
       "\n",
       "A tibble: 22 × 2\n",
       "\n",
       "| neighbourhood_name &lt;chr&gt; | avg_income &lt;dbl&gt; |\n",
       "|---|---|\n",
       "| Arbutus-Ridge     | 62675 |\n",
       "| Downtown          | 63251 |\n",
       "| Dunbar-Southlands | 78117 |\n",
       "| Fairview          | 61627 |\n",
       "| ⋮ | ⋮ |\n",
       "| Sunset              | 34212 |\n",
       "| Victoria-Fraserview | 34298 |\n",
       "| West End            | 47253 |\n",
       "| West Point Grey     | 82042 |\n",
       "\n"
      ],
      "text/plain": [
       "   neighbourhood_name  avg_income\n",
       "1  Arbutus-Ridge       62675     \n",
       "2  Downtown            63251     \n",
       "3  Dunbar-Southlands   78117     \n",
       "4  Fairview            61627     \n",
       "⋮  ⋮                   ⋮         \n",
       "19 Sunset              34212     \n",
       "20 Victoria-Fraserview 34298     \n",
       "21 West End            47253     \n",
       "22 West Point Grey     82042     "
      ]
     },
     "metadata": {},
     "output_type": "display_data"
    }
   ],
   "source": [
    "# Lengthening the dataset and removing unnecessary columns\n",
    "income <- average_income |>\n",
    "    select(-Variable, -ID, -\"Vancouver CSD\", -\"Vancouver CMA\") |>\n",
    "    pivot_longer(cols = everything(), names_to = \"neighbourhood_name\", values_to = \"avg_income\")\n",
    "    # arrange(avg_income) # sort income in ascending order\n",
    "income"
   ]
  },
  {
   "cell_type": "markdown",
   "id": "c5155df1-61e2-4d4a-8db3-ba660fed1fc1",
   "metadata": {},
   "source": [
    "For consistency, we will also modify all neighbourhood names in the `trees` dataset to match those of the `average_income` dataset."
   ]
  },
  {
   "cell_type": "code",
   "execution_count": 6,
   "id": "577d100a-769c-455d-b5bd-6f9dfbf3526b",
   "metadata": {
    "tags": []
   },
   "outputs": [],
   "source": [
    "# Rename all locations in the `trees` dataset to match the `income` dataset\n",
    "trees$neighbourhood_name[trees$neighbourhood_name == \"ARBUTUS RIDGE\"]<- \"Arbutus-Ridge\"\n",
    "trees$neighbourhood_name[trees$neighbourhood_name == \"DOWNTOWN\"]<- \"Downtown\"\n",
    "trees$neighbourhood_name[trees$neighbourhood_name == \"DUNBAR-SOUTHLANDS\"]<- \"Dunbar-Southlands\"\n",
    "trees$neighbourhood_name[trees$neighbourhood_name == \"FAIRVIEW\"]<- \"Fairview\"\n",
    "trees$neighbourhood_name[trees$neighbourhood_name == \"GRANDVIEW-WOODLAND\"]<- \"Grandview-Woodland\"\n",
    "trees$neighbourhood_name[trees$neighbourhood_name == \"HASTINGS-SUNRISE\"]<- \"Hastings-Sunrise\"\n",
    "trees$neighbourhood_name[trees$neighbourhood_name == \"KENSINGTON-CEDAR COTTAGE\"]<- \"Kensington-Cedar Cottage\"\n",
    "trees$neighbourhood_name[trees$neighbourhood_name == \"KERRISDALE\"]<- \"Kerrisdale\"\n",
    "trees$neighbourhood_name[trees$neighbourhood_name == \"KILLARNEY\"]<- \"Killarney\"\n",
    "trees$neighbourhood_name[trees$neighbourhood_name == \"KITSILANO\"]<- \"Kitsilano\"\n",
    "trees$neighbourhood_name[trees$neighbourhood_name == \"MARPOLE\"]<- \"Marpole\"\n",
    "trees$neighbourhood_name[trees$neighbourhood_name == \"MOUNT PLEASANT\"]<- \"Mount Pleasant\"\n",
    "trees$neighbourhood_name[trees$neighbourhood_name == \"OAKRIDGE\"]<- \"Oakridge\"\n",
    "trees$neighbourhood_name[trees$neighbourhood_name == \"RENFREW-COLLINGWOOD\"]<- \"Renfrew-Collingwood\"\n",
    "trees$neighbourhood_name[trees$neighbourhood_name == \"RILEY PARK\"]<- \"Riley Park\"\n",
    "trees$neighbourhood_name[trees$neighbourhood_name == \"SHAUGHNESSY\"]<- \"Shaughnessy\"\n",
    "trees$neighbourhood_name[trees$neighbourhood_name == \"SOUTH CAMBIE\"]<- \"South Cambie\"\n",
    "trees$neighbourhood_name[trees$neighbourhood_name == \"STRATHCONA\"]<- \"Strathcona\"\n",
    "trees$neighbourhood_name[trees$neighbourhood_name == \"SUNSET\"]<- \"Sunset\"\n",
    "trees$neighbourhood_name[trees$neighbourhood_name == \"VICTORIA-FRASERVIEW\"]<- \"Victoria-Fraserview\"\n",
    "trees$neighbourhood_name[trees$neighbourhood_name == \"WEST END\"]<- \"West End\"\n",
    "trees$neighbourhood_name[trees$neighbourhood_name == \"WEST POINT GREY\"]<- \"West Point Grey\""
   ]
  },
  {
   "cell_type": "markdown",
   "id": "d8a5a63d-38f7-4afd-9a8b-3c8798a18757",
   "metadata": {},
   "source": [
    "Below is a list of the region names:"
   ]
  },
  {
   "cell_type": "code",
   "execution_count": 7,
   "id": "ab83469c-5412-40a0-85ec-ce7260225752",
   "metadata": {
    "tags": []
   },
   "outputs": [
    {
     "data": {
      "text/html": [
       "<style>\n",
       ".list-inline {list-style: none; margin:0; padding: 0}\n",
       ".list-inline>li {display: inline-block}\n",
       ".list-inline>li:not(:last-child)::after {content: \"\\00b7\"; padding: 0 .5ex}\n",
       "</style>\n",
       "<ol class=list-inline><li>'Arbutus-Ridge'</li><li>'Downtown'</li><li>'Dunbar-Southlands'</li><li>'Fairview'</li><li>'Grandview-Woodland'</li><li>'Hastings-Sunrise'</li><li>'Kensington-Cedar Cottage'</li><li>'Kerrisdale'</li><li>'Killarney'</li><li>'Kitsilano'</li><li>'Marpole'</li><li>'Mount Pleasant'</li><li>'Oakridge'</li><li>'Renfrew-Collingwood'</li><li>'Riley Park'</li><li>'Shaughnessy'</li><li>'South Cambie'</li><li>'Strathcona'</li><li>'Sunset'</li><li>'Victoria-Fraserview'</li><li>'West End'</li><li>'West Point Grey'</li></ol>\n"
      ],
      "text/latex": [
       "\\begin{enumerate*}\n",
       "\\item 'Arbutus-Ridge'\n",
       "\\item 'Downtown'\n",
       "\\item 'Dunbar-Southlands'\n",
       "\\item 'Fairview'\n",
       "\\item 'Grandview-Woodland'\n",
       "\\item 'Hastings-Sunrise'\n",
       "\\item 'Kensington-Cedar Cottage'\n",
       "\\item 'Kerrisdale'\n",
       "\\item 'Killarney'\n",
       "\\item 'Kitsilano'\n",
       "\\item 'Marpole'\n",
       "\\item 'Mount Pleasant'\n",
       "\\item 'Oakridge'\n",
       "\\item 'Renfrew-Collingwood'\n",
       "\\item 'Riley Park'\n",
       "\\item 'Shaughnessy'\n",
       "\\item 'South Cambie'\n",
       "\\item 'Strathcona'\n",
       "\\item 'Sunset'\n",
       "\\item 'Victoria-Fraserview'\n",
       "\\item 'West End'\n",
       "\\item 'West Point Grey'\n",
       "\\end{enumerate*}\n"
      ],
      "text/markdown": [
       "1. 'Arbutus-Ridge'\n",
       "2. 'Downtown'\n",
       "3. 'Dunbar-Southlands'\n",
       "4. 'Fairview'\n",
       "5. 'Grandview-Woodland'\n",
       "6. 'Hastings-Sunrise'\n",
       "7. 'Kensington-Cedar Cottage'\n",
       "8. 'Kerrisdale'\n",
       "9. 'Killarney'\n",
       "10. 'Kitsilano'\n",
       "11. 'Marpole'\n",
       "12. 'Mount Pleasant'\n",
       "13. 'Oakridge'\n",
       "14. 'Renfrew-Collingwood'\n",
       "15. 'Riley Park'\n",
       "16. 'Shaughnessy'\n",
       "17. 'South Cambie'\n",
       "18. 'Strathcona'\n",
       "19. 'Sunset'\n",
       "20. 'Victoria-Fraserview'\n",
       "21. 'West End'\n",
       "22. 'West Point Grey'\n",
       "\n",
       "\n"
      ],
      "text/plain": [
       " [1] \"Arbutus-Ridge\"            \"Downtown\"                \n",
       " [3] \"Dunbar-Southlands\"        \"Fairview\"                \n",
       " [5] \"Grandview-Woodland\"       \"Hastings-Sunrise\"        \n",
       " [7] \"Kensington-Cedar Cottage\" \"Kerrisdale\"              \n",
       " [9] \"Killarney\"                \"Kitsilano\"               \n",
       "[11] \"Marpole\"                  \"Mount Pleasant\"          \n",
       "[13] \"Oakridge\"                 \"Renfrew-Collingwood\"     \n",
       "[15] \"Riley Park\"               \"Shaughnessy\"             \n",
       "[17] \"South Cambie\"             \"Strathcona\"              \n",
       "[19] \"Sunset\"                   \"Victoria-Fraserview\"     \n",
       "[21] \"West End\"                 \"West Point Grey\"         "
      ]
     },
     "metadata": {},
     "output_type": "display_data"
    }
   ],
   "source": [
    "income$neighbourhood_name"
   ]
  },
  {
   "cell_type": "markdown",
   "id": "421212dc-d042-42e6-a178-5183e8085055",
   "metadata": {},
   "source": [
    "###  Statistical Summary"
   ]
  },
  {
   "cell_type": "code",
   "execution_count": 8,
   "id": "860c3ffb-bfb4-4485-9bd3-5d4463eb2a49",
   "metadata": {
    "tags": []
   },
   "outputs": [
    {
     "data": {
      "text/html": [
       "<table class=\"dataframe\">\n",
       "<caption>A tibble: 22 × 4</caption>\n",
       "<thead>\n",
       "\t<tr><th scope=col>neighbourhood_name</th><th scope=col>n</th><th scope=col>mean_diameter</th><th scope=col>sd_diameter</th></tr>\n",
       "\t<tr><th scope=col>&lt;chr&gt;</th><th scope=col>&lt;int&gt;</th><th scope=col>&lt;dbl&gt;</th><th scope=col>&lt;dbl&gt;</th></tr>\n",
       "</thead>\n",
       "<tbody>\n",
       "\t<tr><td>Arbutus-Ridge           </td><td>1768</td><td>12.007489</td><td> 8.755964</td></tr>\n",
       "\t<tr><td>Downtown                </td><td>1666</td><td> 8.109934</td><td> 5.838565</td></tr>\n",
       "\t<tr><td>Dunbar-Southlands       </td><td>3199</td><td>14.619772</td><td>10.775832</td></tr>\n",
       "\t<tr><td>Fairview                </td><td>1401</td><td>11.629122</td><td> 8.419905</td></tr>\n",
       "\t<tr><td>Grandview-Woodland      </td><td>2389</td><td>12.809125</td><td> 9.425282</td></tr>\n",
       "\t<tr><td>Hastings-Sunrise        </td><td>3601</td><td>11.785948</td><td> 8.895578</td></tr>\n",
       "\t<tr><td>Kensington-Cedar Cottage</td><td>3800</td><td>11.805989</td><td> 9.090078</td></tr>\n",
       "\t<tr><td>Kerrisdale              </td><td>2277</td><td>12.818226</td><td>10.304073</td></tr>\n",
       "\t<tr><td>Killarney               </td><td>2200</td><td>10.004209</td><td> 7.317172</td></tr>\n",
       "\t<tr><td>Kitsilano               </td><td>2691</td><td>15.060338</td><td>10.240336</td></tr>\n",
       "\t<tr><td>Marpole                 </td><td>2138</td><td>11.465164</td><td>10.289715</td></tr>\n",
       "\t<tr><td>Mount Pleasant          </td><td>2367</td><td>12.198585</td><td> 8.599393</td></tr>\n",
       "\t<tr><td>Oakridge                </td><td>1534</td><td>10.467979</td><td> 8.313880</td></tr>\n",
       "\t<tr><td>Renfrew-Collingwood     </td><td>3933</td><td> 9.668434</td><td> 7.947117</td></tr>\n",
       "\t<tr><td>Riley Park              </td><td>2413</td><td>12.166680</td><td> 9.515733</td></tr>\n",
       "\t<tr><td>Shaughnessy             </td><td>2336</td><td>14.703746</td><td>10.727382</td></tr>\n",
       "\t<tr><td>South Cambie            </td><td>1163</td><td>12.146389</td><td>11.120986</td></tr>\n",
       "\t<tr><td>Strathcona              </td><td> 957</td><td>10.451463</td><td> 7.751089</td></tr>\n",
       "\t<tr><td>Sunset                  </td><td>2793</td><td>10.724364</td><td> 8.430826</td></tr>\n",
       "\t<tr><td>Victoria-Fraserview     </td><td>2669</td><td>10.268827</td><td> 8.283765</td></tr>\n",
       "\t<tr><td>West End                </td><td>1126</td><td>12.369654</td><td> 8.132773</td></tr>\n",
       "\t<tr><td>West Point Grey         </td><td>1579</td><td>13.830019</td><td>10.062693</td></tr>\n",
       "</tbody>\n",
       "</table>\n"
      ],
      "text/latex": [
       "A tibble: 22 × 4\n",
       "\\begin{tabular}{llll}\n",
       " neighbourhood\\_name & n & mean\\_diameter & sd\\_diameter\\\\\n",
       " <chr> & <int> & <dbl> & <dbl>\\\\\n",
       "\\hline\n",
       "\t Arbutus-Ridge            & 1768 & 12.007489 &  8.755964\\\\\n",
       "\t Downtown                 & 1666 &  8.109934 &  5.838565\\\\\n",
       "\t Dunbar-Southlands        & 3199 & 14.619772 & 10.775832\\\\\n",
       "\t Fairview                 & 1401 & 11.629122 &  8.419905\\\\\n",
       "\t Grandview-Woodland       & 2389 & 12.809125 &  9.425282\\\\\n",
       "\t Hastings-Sunrise         & 3601 & 11.785948 &  8.895578\\\\\n",
       "\t Kensington-Cedar Cottage & 3800 & 11.805989 &  9.090078\\\\\n",
       "\t Kerrisdale               & 2277 & 12.818226 & 10.304073\\\\\n",
       "\t Killarney                & 2200 & 10.004209 &  7.317172\\\\\n",
       "\t Kitsilano                & 2691 & 15.060338 & 10.240336\\\\\n",
       "\t Marpole                  & 2138 & 11.465164 & 10.289715\\\\\n",
       "\t Mount Pleasant           & 2367 & 12.198585 &  8.599393\\\\\n",
       "\t Oakridge                 & 1534 & 10.467979 &  8.313880\\\\\n",
       "\t Renfrew-Collingwood      & 3933 &  9.668434 &  7.947117\\\\\n",
       "\t Riley Park               & 2413 & 12.166680 &  9.515733\\\\\n",
       "\t Shaughnessy              & 2336 & 14.703746 & 10.727382\\\\\n",
       "\t South Cambie             & 1163 & 12.146389 & 11.120986\\\\\n",
       "\t Strathcona               &  957 & 10.451463 &  7.751089\\\\\n",
       "\t Sunset                   & 2793 & 10.724364 &  8.430826\\\\\n",
       "\t Victoria-Fraserview      & 2669 & 10.268827 &  8.283765\\\\\n",
       "\t West End                 & 1126 & 12.369654 &  8.132773\\\\\n",
       "\t West Point Grey          & 1579 & 13.830019 & 10.062693\\\\\n",
       "\\end{tabular}\n"
      ],
      "text/markdown": [
       "\n",
       "A tibble: 22 × 4\n",
       "\n",
       "| neighbourhood_name &lt;chr&gt; | n &lt;int&gt; | mean_diameter &lt;dbl&gt; | sd_diameter &lt;dbl&gt; |\n",
       "|---|---|---|---|\n",
       "| Arbutus-Ridge            | 1768 | 12.007489 |  8.755964 |\n",
       "| Downtown                 | 1666 |  8.109934 |  5.838565 |\n",
       "| Dunbar-Southlands        | 3199 | 14.619772 | 10.775832 |\n",
       "| Fairview                 | 1401 | 11.629122 |  8.419905 |\n",
       "| Grandview-Woodland       | 2389 | 12.809125 |  9.425282 |\n",
       "| Hastings-Sunrise         | 3601 | 11.785948 |  8.895578 |\n",
       "| Kensington-Cedar Cottage | 3800 | 11.805989 |  9.090078 |\n",
       "| Kerrisdale               | 2277 | 12.818226 | 10.304073 |\n",
       "| Killarney                | 2200 | 10.004209 |  7.317172 |\n",
       "| Kitsilano                | 2691 | 15.060338 | 10.240336 |\n",
       "| Marpole                  | 2138 | 11.465164 | 10.289715 |\n",
       "| Mount Pleasant           | 2367 | 12.198585 |  8.599393 |\n",
       "| Oakridge                 | 1534 | 10.467979 |  8.313880 |\n",
       "| Renfrew-Collingwood      | 3933 |  9.668434 |  7.947117 |\n",
       "| Riley Park               | 2413 | 12.166680 |  9.515733 |\n",
       "| Shaughnessy              | 2336 | 14.703746 | 10.727382 |\n",
       "| South Cambie             | 1163 | 12.146389 | 11.120986 |\n",
       "| Strathcona               |  957 | 10.451463 |  7.751089 |\n",
       "| Sunset                   | 2793 | 10.724364 |  8.430826 |\n",
       "| Victoria-Fraserview      | 2669 | 10.268827 |  8.283765 |\n",
       "| West End                 | 1126 | 12.369654 |  8.132773 |\n",
       "| West Point Grey          | 1579 | 13.830019 | 10.062693 |\n",
       "\n"
      ],
      "text/plain": [
       "   neighbourhood_name       n    mean_diameter sd_diameter\n",
       "1  Arbutus-Ridge            1768 12.007489      8.755964  \n",
       "2  Downtown                 1666  8.109934      5.838565  \n",
       "3  Dunbar-Southlands        3199 14.619772     10.775832  \n",
       "4  Fairview                 1401 11.629122      8.419905  \n",
       "5  Grandview-Woodland       2389 12.809125      9.425282  \n",
       "6  Hastings-Sunrise         3601 11.785948      8.895578  \n",
       "7  Kensington-Cedar Cottage 3800 11.805989      9.090078  \n",
       "8  Kerrisdale               2277 12.818226     10.304073  \n",
       "9  Killarney                2200 10.004209      7.317172  \n",
       "10 Kitsilano                2691 15.060338     10.240336  \n",
       "11 Marpole                  2138 11.465164     10.289715  \n",
       "12 Mount Pleasant           2367 12.198585      8.599393  \n",
       "13 Oakridge                 1534 10.467979      8.313880  \n",
       "14 Renfrew-Collingwood      3933  9.668434      7.947117  \n",
       "15 Riley Park               2413 12.166680      9.515733  \n",
       "16 Shaughnessy              2336 14.703746     10.727382  \n",
       "17 South Cambie             1163 12.146389     11.120986  \n",
       "18 Strathcona                957 10.451463      7.751089  \n",
       "19 Sunset                   2793 10.724364      8.430826  \n",
       "20 Victoria-Fraserview      2669 10.268827      8.283765  \n",
       "21 West End                 1126 12.369654      8.132773  \n",
       "22 West Point Grey          1579 13.830019     10.062693  "
      ]
     },
     "metadata": {},
     "output_type": "display_data"
    },
    {
     "data": {
      "text/html": [
       "<table class=\"dataframe\">\n",
       "<caption>A tibble: 1 × 3</caption>\n",
       "<thead>\n",
       "\t<tr><th scope=col>n</th><th scope=col>mean_diameter</th><th scope=col>sd_diameter</th></tr>\n",
       "\t<tr><th scope=col>&lt;int&gt;</th><th scope=col>&lt;dbl&gt;</th><th scope=col>&lt;dbl&gt;</th></tr>\n",
       "</thead>\n",
       "<tbody>\n",
       "\t<tr><td>50000</td><td>11.91723</td><td>9.297665</td></tr>\n",
       "</tbody>\n",
       "</table>\n"
      ],
      "text/latex": [
       "A tibble: 1 × 3\n",
       "\\begin{tabular}{lll}\n",
       " n & mean\\_diameter & sd\\_diameter\\\\\n",
       " <int> & <dbl> & <dbl>\\\\\n",
       "\\hline\n",
       "\t 50000 & 11.91723 & 9.297665\\\\\n",
       "\\end{tabular}\n"
      ],
      "text/markdown": [
       "\n",
       "A tibble: 1 × 3\n",
       "\n",
       "| n &lt;int&gt; | mean_diameter &lt;dbl&gt; | sd_diameter &lt;dbl&gt; |\n",
       "|---|---|---|\n",
       "| 50000 | 11.91723 | 9.297665 |\n",
       "\n"
      ],
      "text/plain": [
       "  n     mean_diameter sd_diameter\n",
       "1 50000 11.91723      9.297665   "
      ]
     },
     "metadata": {},
     "output_type": "display_data"
    }
   ],
   "source": [
    "# --- Summarizing `trees` ---\n",
    "# summarizing per region\n",
    "trees_summary_region <- trees |>\n",
    "    group_by(neighbourhood_name) |>\n",
    "    summarize(n = n(),\n",
    "              mean_diameter = mean(diameter),\n",
    "              sd_diameter = sd(diameter))\n",
    "\n",
    "# override row limit just for this cell\n",
    "options(repr.matrix.max.rows = Inf)\n",
    "trees_summary_region\n",
    "options(repr.matrix.max.rows = 8)\n",
    "\n",
    "# for fun, find overall mean and sd\n",
    "trees_summary_entire <- trees |>\n",
    "    summarize(n = n(),\n",
    "              mean_diameter = mean(diameter),\n",
    "              sd_diameter = sd(diameter))\n",
    "\n",
    "trees_summary_entire"
   ]
  },
  {
   "cell_type": "code",
   "execution_count": 9,
   "id": "9377de66-1138-4d10-91be-9206e6cec330",
   "metadata": {
    "tags": []
   },
   "outputs": [
    {
     "data": {
      "text/html": [
       "<table class=\"dataframe\">\n",
       "<caption>A tibble: 22 × 2</caption>\n",
       "<thead>\n",
       "\t<tr><th scope=col>neighbourhood_name</th><th scope=col>avg_income</th></tr>\n",
       "\t<tr><th scope=col>&lt;chr&gt;</th><th scope=col>&lt;dbl&gt;</th></tr>\n",
       "</thead>\n",
       "<tbody>\n",
       "\t<tr><td>Arbutus-Ridge           </td><td> 62675</td></tr>\n",
       "\t<tr><td>Downtown                </td><td> 63251</td></tr>\n",
       "\t<tr><td>Dunbar-Southlands       </td><td> 78117</td></tr>\n",
       "\t<tr><td>Fairview                </td><td> 61627</td></tr>\n",
       "\t<tr><td>Grandview-Woodland      </td><td> 42896</td></tr>\n",
       "\t<tr><td>Hastings-Sunrise        </td><td> 38258</td></tr>\n",
       "\t<tr><td>Kensington-Cedar Cottage</td><td> 38411</td></tr>\n",
       "\t<tr><td>Kerrisdale              </td><td> 77248</td></tr>\n",
       "\t<tr><td>Killarney               </td><td> 39013</td></tr>\n",
       "\t<tr><td>Kitsilano               </td><td> 63092</td></tr>\n",
       "\t<tr><td>Marpole                 </td><td> 39020</td></tr>\n",
       "\t<tr><td>Mount Pleasant          </td><td> 54260</td></tr>\n",
       "\t<tr><td>Oakridge                </td><td> 46515</td></tr>\n",
       "\t<tr><td>Renfrew-Collingwood     </td><td> 33360</td></tr>\n",
       "\t<tr><td>Riley Park              </td><td> 53060</td></tr>\n",
       "\t<tr><td>Shaughnessy             </td><td>118668</td></tr>\n",
       "\t<tr><td>South Cambie            </td><td> 65459</td></tr>\n",
       "\t<tr><td>Strathcona              </td><td> 31534</td></tr>\n",
       "\t<tr><td>Sunset                  </td><td> 34212</td></tr>\n",
       "\t<tr><td>Victoria-Fraserview     </td><td> 34298</td></tr>\n",
       "\t<tr><td>West End                </td><td> 47253</td></tr>\n",
       "\t<tr><td>West Point Grey         </td><td> 82042</td></tr>\n",
       "</tbody>\n",
       "</table>\n"
      ],
      "text/latex": [
       "A tibble: 22 × 2\n",
       "\\begin{tabular}{ll}\n",
       " neighbourhood\\_name & avg\\_income\\\\\n",
       " <chr> & <dbl>\\\\\n",
       "\\hline\n",
       "\t Arbutus-Ridge            &  62675\\\\\n",
       "\t Downtown                 &  63251\\\\\n",
       "\t Dunbar-Southlands        &  78117\\\\\n",
       "\t Fairview                 &  61627\\\\\n",
       "\t Grandview-Woodland       &  42896\\\\\n",
       "\t Hastings-Sunrise         &  38258\\\\\n",
       "\t Kensington-Cedar Cottage &  38411\\\\\n",
       "\t Kerrisdale               &  77248\\\\\n",
       "\t Killarney                &  39013\\\\\n",
       "\t Kitsilano                &  63092\\\\\n",
       "\t Marpole                  &  39020\\\\\n",
       "\t Mount Pleasant           &  54260\\\\\n",
       "\t Oakridge                 &  46515\\\\\n",
       "\t Renfrew-Collingwood      &  33360\\\\\n",
       "\t Riley Park               &  53060\\\\\n",
       "\t Shaughnessy              & 118668\\\\\n",
       "\t South Cambie             &  65459\\\\\n",
       "\t Strathcona               &  31534\\\\\n",
       "\t Sunset                   &  34212\\\\\n",
       "\t Victoria-Fraserview      &  34298\\\\\n",
       "\t West End                 &  47253\\\\\n",
       "\t West Point Grey          &  82042\\\\\n",
       "\\end{tabular}\n"
      ],
      "text/markdown": [
       "\n",
       "A tibble: 22 × 2\n",
       "\n",
       "| neighbourhood_name &lt;chr&gt; | avg_income &lt;dbl&gt; |\n",
       "|---|---|\n",
       "| Arbutus-Ridge            |  62675 |\n",
       "| Downtown                 |  63251 |\n",
       "| Dunbar-Southlands        |  78117 |\n",
       "| Fairview                 |  61627 |\n",
       "| Grandview-Woodland       |  42896 |\n",
       "| Hastings-Sunrise         |  38258 |\n",
       "| Kensington-Cedar Cottage |  38411 |\n",
       "| Kerrisdale               |  77248 |\n",
       "| Killarney                |  39013 |\n",
       "| Kitsilano                |  63092 |\n",
       "| Marpole                  |  39020 |\n",
       "| Mount Pleasant           |  54260 |\n",
       "| Oakridge                 |  46515 |\n",
       "| Renfrew-Collingwood      |  33360 |\n",
       "| Riley Park               |  53060 |\n",
       "| Shaughnessy              | 118668 |\n",
       "| South Cambie             |  65459 |\n",
       "| Strathcona               |  31534 |\n",
       "| Sunset                   |  34212 |\n",
       "| Victoria-Fraserview      |  34298 |\n",
       "| West End                 |  47253 |\n",
       "| West Point Grey          |  82042 |\n",
       "\n"
      ],
      "text/plain": [
       "   neighbourhood_name       avg_income\n",
       "1  Arbutus-Ridge             62675    \n",
       "2  Downtown                  63251    \n",
       "3  Dunbar-Southlands         78117    \n",
       "4  Fairview                  61627    \n",
       "5  Grandview-Woodland        42896    \n",
       "6  Hastings-Sunrise          38258    \n",
       "7  Kensington-Cedar Cottage  38411    \n",
       "8  Kerrisdale                77248    \n",
       "9  Killarney                 39013    \n",
       "10 Kitsilano                 63092    \n",
       "11 Marpole                   39020    \n",
       "12 Mount Pleasant            54260    \n",
       "13 Oakridge                  46515    \n",
       "14 Renfrew-Collingwood       33360    \n",
       "15 Riley Park                53060    \n",
       "16 Shaughnessy              118668    \n",
       "17 South Cambie              65459    \n",
       "18 Strathcona                31534    \n",
       "19 Sunset                    34212    \n",
       "20 Victoria-Fraserview       34298    \n",
       "21 West End                  47253    \n",
       "22 West Point Grey           82042    "
      ]
     },
     "metadata": {},
     "output_type": "display_data"
    },
    {
     "data": {
      "text/html": [
       "'Average income across all Vancouver regions is 54739.5'"
      ],
      "text/latex": [
       "'Average income across all Vancouver regions is 54739.5'"
      ],
      "text/markdown": [
       "'Average income across all Vancouver regions is 54739.5'"
      ],
      "text/plain": [
       "[1] \"Average income across all Vancouver regions is 54739.5\""
      ]
     },
     "metadata": {},
     "output_type": "display_data"
    }
   ],
   "source": [
    "# --- Summarizing `income` ---\n",
    "\n",
    "# producing the average income in all regions, again, bypassing max rows\n",
    "options(repr.matrix.max.rows = Inf)\n",
    "income\n",
    "options(repr.matrix.max.rows = 8)\n",
    "\n",
    "# just for fun, find average income\n",
    "income_average <- income |>\n",
    "    summarize(average = mean(avg_income)) |>\n",
    "    pull()\n",
    "paste(\"Average income across all Vancouver regions is\", income_average)"
   ]
  },
  {
   "cell_type": "markdown",
   "id": "056284e9-00c7-4ad4-a0a9-5c526f386f33",
   "metadata": {},
   "source": [
    "### General Visualizations"
   ]
  },
  {
   "cell_type": "code",
   "execution_count": null,
   "id": "aaa3f516-97a6-45c4-b7e7-a870e32438e8",
   "metadata": {
    "tags": []
   },
   "outputs": [],
   "source": [
    "options(repr.plot.width = 10, repr.plot.height = 8)\n",
    "\n",
    "# Visualize the average income of each neighbourhood\n",
    "income_plot <- income |>\n",
    "    ggplot(aes(x = reorder(neighbourhood_name, +avg_income), y = avg_income)) +\n",
    "    geom_bar(stat = \"identity\") +\n",
    "    labs(title=\"Average Income by Vancouver Neighbourhood\",\n",
    "         x=\"Location\",\n",
    "         y=\"Average Income\") +\n",
    "    theme(axis.text.x = element_text(size=8, angle=45, hjust=1))\n",
    "\n",
    "income_plot\n",
    "\n",
    "# Visualize the mean of average tree diameter for each neighbourhood\n",
    "tree_plot_average <- trees |>\n",
    "    ggplot(aes(x = reorder(neighbourhood_name, + diameter), y = diameter)) +\n",
    "    geom_bar(stat = \"identity\") +\n",
    "    labs(title=\"Average Tree Diameter by Vancouver Neighbourhood\",\n",
    "         x=\"Location\",\n",
    "         y=\"Average Tree Diameter (inches)\") +\n",
    "    theme(axis.text.x = element_text(size=8, angle=45, hjust=1))\n",
    "tree_plot_average\n",
    "\n",
    "# Visualize the mean and spread of average tree diameter for each neighbourhood using a boxplot\n",
    "# Note we are removing the outliers for initial comparison purposes.\n",
    "tree_boxplot <- trees |>\n",
    "    ggplot(aes(x = neighbourhood_name, y = diameter)) +\n",
    "    geom_boxplot(outlier.shape = NA) +\n",
    "    labs(title=\"Average Tree Diameter by Vancouver Neighbourhood\",\n",
    "         x=\"Location\",\n",
    "         y=\"Average Tree Diameter (in)\") +\n",
    "    theme(axis.text.x = element_text(size=8, angle=45, hjust=1)) +\n",
    "    coord_cartesian(ylim = c(0, 75))\n",
    "\n",
    "tree_boxplot"
   ]
  },
  {
   "cell_type": "code",
   "execution_count": null,
   "id": "b4111434-47b3-4f8f-bc8d-ed31220e1b73",
   "metadata": {},
   "outputs": [],
   "source": [
    "# Visualize the mean and spread of average tree diameter for each neighbourhood using a boxplot\n",
    "# Note we are removing the outliers for initial comparison purposes.\n",
    "tree_boxplot <- trees |>\n",
    "    ggplot(aes(x = neighbourhood_name, y = diameter)) +\n",
    "    geom_boxplot(outlier.shape = NA) +\n",
    "    labs(title=\"Average Tree Diameter by Vancouver Neighbourhood\",\n",
    "         x=\"Location\",\n",
    "         y=\"Average Tree Diameter (in)\") +\n",
    "    theme(axis.text.x = element_text(size=8, angle=45, hjust=1)) +\n",
    "    coord_cartesian(ylim = c(0, 75))\n",
    "\n",
    "tree_boxplot"
   ]
  },
  {
   "cell_type": "markdown",
   "id": "aa592b19-6296-4d4b-84f5-af4b30b1d2af",
   "metadata": {},
   "source": [
    "<h2 style=\"color:#008a05\">Expected Outcomes and Significance</h2>\n",
    "\n",
    "We expect that an appropriate model will be developed to incorporate our predictor variables—valence, mode, tempo, and energy—to predict the danceability of an unknown song. The results of this study could assist musicians who desire to create danceable music according to specific characteristics. This finding could assist them in identifying and selecting danceable features of the song before creating it, thus increasing the likelihood of a successful composition.\n",
    "\n",
    "Further, this study raises several interesting questions. For instance:\n",
    "- How do other variables, like a song’s length, its key, or how wordy it is, affect its danceability?\n",
    "- Is popularity based primarily on how danceable a song is?\n",
    "- Since the danceability variable, per Spotify, is a combination of factors like beat strength, regularity, and stability, is it an unbiased, objective variable?\n",
    "- Could the danceability of a song be viewed differently across regions, cultures, and societies?\n",
    "\n",
    "<br><br><br>\n",
    "*Thank you! - Group 79*"
   ]
  }
 ],
 "metadata": {
  "kernelspec": {
   "display_name": "R",
   "language": "R",
   "name": "ir"
  },
  "language_info": {
   "codemirror_mode": "r",
   "file_extension": ".r",
   "mimetype": "text/x-r-source",
   "name": "R",
   "pygments_lexer": "r",
   "version": "4.2.3"
  }
 },
 "nbformat": 4,
 "nbformat_minor": 5
}
